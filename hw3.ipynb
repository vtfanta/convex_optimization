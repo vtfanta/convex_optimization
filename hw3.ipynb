{
 "cells": [
  {
   "cell_type": "markdown",
   "metadata": {},
   "source": [
    "HW3, task 2"
   ]
  },
  {
   "cell_type": "code",
   "execution_count": 3,
   "metadata": {},
   "outputs": [
    {
     "name": "stderr",
     "output_type": "stream",
     "text": [
      "\u001b[32m\u001b[1m  Activating\u001b[22m\u001b[39m project at `~/phd/courses/convex_optimization`\n"
     ]
    }
   ],
   "source": [
    "using Pkg\n",
    "Pkg.activate(\".\")"
   ]
  },
  {
   "cell_type": "code",
   "execution_count": 5,
   "metadata": {},
   "outputs": [
    {
     "data": {
      "text/plain": [
       "(Variable\n",
       "size: (1, 1)\n",
       "sign: real\n",
       "vexity: affine\n",
       "id: 175…523, Variable\n",
       "size: (1, 1)\n",
       "sign: real\n",
       "vexity: affine\n",
       "id: 411…891, Variable\n",
       "size: (1, 1)\n",
       "sign: real\n",
       "vexity: affine\n",
       "id: 176…517)"
      ]
     },
     "metadata": {},
     "output_type": "display_data"
    }
   ],
   "source": [
    "using Convex\n",
    "x, y, z = Variable(), Variable(), Variable()"
   ]
  },
  {
   "cell_type": "code",
   "execution_count": 21,
   "metadata": {},
   "outputs": [],
   "source": [
    "# a)\n",
    "using GLMakie\n",
    "h(u) = max(u, 1/u)\n",
    "lines(0.2..5, h)"
   ]
  }
 ],
 "metadata": {
  "kernelspec": {
   "display_name": "Julia 1.10.6",
   "language": "julia",
   "name": "julia-1.10"
  },
  "language_info": {
   "file_extension": ".jl",
   "mimetype": "application/julia",
   "name": "julia",
   "version": "1.10.6"
  }
 },
 "nbformat": 4,
 "nbformat_minor": 2
}
